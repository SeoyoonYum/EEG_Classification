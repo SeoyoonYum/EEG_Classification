{
 "cells": [
  {
   "cell_type": "code",
   "execution_count": 13,
   "id": "96800ed3",
   "metadata": {},
   "outputs": [],
   "source": [
    "import numpy as np\n",
    "\n",
    "# mne imports\n",
    "import mne\n",
    "from mne import io, read_epochs, concatenate_epochs\n",
    "from mne.datasets import sample\n",
    "from mne import Epochs, create_info, events_from_annotations\n",
    "from mne.datasets import eegbci\n",
    "from mne.decoding import CSP\n",
    "from mne.time_frequency import AverageTFR\n",
    "\n",
    "# EEGNet-specific imports\n",
    "from EEGModels import EEGNet\n",
    "from tensorflow.keras import utils as np_utils\n",
    "from tensorflow.keras.callbacks import ModelCheckpoint\n",
    "from tensorflow.keras import backend as K\n",
    "import tensorflow as tf\n",
    "\n",
    "# PyRiemann imports\n",
    "from pyriemann.estimation import XdawnCovariances\n",
    "from pyriemann.tangentspace import TangentSpace\n",
    "from sklearn.pipeline import make_pipeline\n",
    "from sklearn.linear_model import LogisticRegression\n",
    "from sklearn.model_selection import train_test_split\n",
    "# tools for plotting confusion matrices\n",
    "from matplotlib import pyplot as plt"
   ]
  },
  {
   "cell_type": "code",
   "execution_count": 2,
   "id": "90741f46",
   "metadata": {},
   "outputs": [
    {
     "name": "stdout",
     "output_type": "stream",
     "text": [
      "/Users/jang-wonjun/Documents/eeg/ml/epochs\n"
     ]
    }
   ],
   "source": [
    "cd epochs"
   ]
  },
  {
   "cell_type": "code",
   "execution_count": 3,
   "id": "5149ec38",
   "metadata": {},
   "outputs": [
    {
     "name": "stdout",
     "output_type": "stream",
     "text": [
      "epoch0-epo.fif   epoch2-epo.fif   epoch5-epo.fif   epoch8-epo.fif\r\n",
      "epoch1-epo.fif   epoch3-epo.fif   epoch6-epo.fif   epoch9-epo.fif\r\n",
      "epoch10-epo.fif  epoch4-epo.fif   epoch7-epo.fif   testset-epo.fif\r\n"
     ]
    }
   ],
   "source": [
    "ls"
   ]
  },
  {
   "cell_type": "code",
   "execution_count": 4,
   "id": "53ce43ee",
   "metadata": {},
   "outputs": [],
   "source": [
    "epoch_list = [f'testset-epo.fif']"
   ]
  },
  {
   "cell_type": "code",
   "execution_count": 5,
   "id": "0e9a3f6e",
   "metadata": {},
   "outputs": [
    {
     "name": "stdout",
     "output_type": "stream",
     "text": [
      "Reading /Users/jang-wonjun/Documents/eeg/ml/epochs/testset-epo.fif ...\n",
      "    Found the data of interest:\n",
      "        t =   -2000.00 ...    2000.00 ms\n",
      "        0 CTF compensation matrices available\n",
      "Not setting metadata\n",
      "10 matching events found\n",
      "No baseline correction applied\n",
      "0 projection items activated\n",
      "Not setting metadata\n",
      "10 matching events found\n",
      "No baseline correction applied\n"
     ]
    },
    {
     "data": {
      "text/html": [
       "<table class=\"table table-hover table-striped table-sm table-responsive small\">\n",
       "    <tr>\n",
       "        <th>Number of events</th>\n",
       "        <td>10</td>\n",
       "    </tr>\n",
       "    <tr>\n",
       "        <th>Events</th>\n",
       "        \n",
       "        <td>finger_movement: 10</td>\n",
       "        \n",
       "    </tr>\n",
       "    <tr>\n",
       "        <th>Time range</th>\n",
       "        <td>-2.000 – 2.000 s</td>\n",
       "    </tr>\n",
       "    <tr>\n",
       "        <th>Baseline</th>\n",
       "        <td>off</td>\n",
       "    </tr>\n",
       "</table>"
      ],
      "text/plain": [
       "<EpochsArray |  10 events (all good), -2 – 2 s, baseline off, ~299 kB, data loaded,\n",
       " 'finger_movement': 10>"
      ]
     },
     "execution_count": 5,
     "metadata": {},
     "output_type": "execute_result"
    }
   ],
   "source": [
    "epoch = concatenate_epochs([read_epochs(epoch_i) for epoch_i in epoch_list])\n",
    "epoch"
   ]
  },
  {
   "cell_type": "code",
   "execution_count": 6,
   "id": "64f2d153",
   "metadata": {},
   "outputs": [
    {
     "name": "stdout",
     "output_type": "stream",
     "text": [
      "Setting up band-pass filter from 2 - 8 Hz\n",
      "\n",
      "FIR filter parameters\n",
      "---------------------\n",
      "Designing a one-pass, zero-phase, non-causal bandpass filter:\n",
      "- Windowed time-domain design (firwin) method\n",
      "- Hamming window with 0.0194 passband ripple and 53 dB stopband attenuation\n",
      "- Lower passband edge: 2.00\n",
      "- Lower transition bandwidth: 2.00 Hz (-6 dB cutoff frequency: 1.00 Hz)\n",
      "- Upper passband edge: 8.00 Hz\n",
      "- Upper transition bandwidth: 2.00 Hz (-6 dB cutoff frequency: 9.00 Hz)\n",
      "- Filter length: 213 samples (1.664 s)\n",
      "\n"
     ]
    },
    {
     "name": "stderr",
     "output_type": "stream",
     "text": [
      "[Parallel(n_jobs=1)]: Using backend SequentialBackend with 1 concurrent workers.\n",
      "[Parallel(n_jobs=1)]: Done   1 out of   1 | elapsed:    0.0s remaining:    0.0s\n",
      "[Parallel(n_jobs=1)]: Done   2 out of   2 | elapsed:    0.0s remaining:    0.0s\n",
      "[Parallel(n_jobs=1)]: Done   3 out of   3 | elapsed:    0.0s remaining:    0.0s\n",
      "[Parallel(n_jobs=1)]: Done   4 out of   4 | elapsed:    0.0s remaining:    0.0s\n",
      "[Parallel(n_jobs=1)]: Done  70 out of  70 | elapsed:    0.0s finished\n"
     ]
    }
   ],
   "source": [
    "fmin, fmax =2 ,8\n",
    "#fmin,fmax=None,None\n",
    "epoch_filter = epoch.copy().filter(fmin,fmax)"
   ]
  },
  {
   "cell_type": "code",
   "execution_count": 15,
   "id": "4d2922c8",
   "metadata": {},
   "outputs": [],
   "source": [
    "w_tmin, w_tmax = 0, 0.5\n",
    "on_event = epoch_filter.copy().crop(w_tmin,w_tmax)\n",
    "off_event = epoch_filter.copy().crop(-2+w_tmin,-2+w_tmax)\n",
    "        \n",
    "X = np.concatenate([on_event.get_data(),off_event.get_data()],axis=0)*1000\n",
    "y = [1 for i in range(X.shape[0]//2)]+[0 for i in range(X.shape[0]//2)]"
   ]
  },
  {
   "cell_type": "code",
   "execution_count": 16,
   "id": "bfbae453",
   "metadata": {},
   "outputs": [
    {
     "data": {
      "text/plain": [
       "(20, 7, 65)"
      ]
     },
     "execution_count": 16,
     "metadata": {},
     "output_type": "execute_result"
    }
   ],
   "source": [
    "X.shape # (trials,channels,samples)"
   ]
  },
  {
   "cell_type": "code",
   "execution_count": 17,
   "id": "f95a6992",
   "metadata": {},
   "outputs": [],
   "source": [
    "kernels, chans, samples = 1, 7, 65"
   ]
  },
  {
   "cell_type": "code",
   "execution_count": 18,
   "id": "29342fb8",
   "metadata": {},
   "outputs": [],
   "source": [
    "y = np_utils.to_categorical(y)"
   ]
  },
  {
   "cell_type": "code",
   "execution_count": 14,
   "id": "80d45fa1",
   "metadata": {},
   "outputs": [],
   "source": [
    "model = tf.keras.models.load_model('../models/EEGnet_model_0.95')"
   ]
  },
  {
   "cell_type": "code",
   "execution_count": 19,
   "id": "cb5d5017",
   "metadata": {},
   "outputs": [
    {
     "name": "stdout",
     "output_type": "stream",
     "text": [
      "1/1 [==============================] - 0s 131ms/step\n",
      "Classification accuracy: 0.850000 \n"
     ]
    }
   ],
   "source": [
    "probs       = model.predict(X)\n",
    "preds       = probs.argmax(axis = -1)  \n",
    "acc         = np.mean(preds == y.argmax(axis=-1))\n",
    "print(\"Classification accuracy: %f \" % (acc))"
   ]
  },
  {
   "cell_type": "code",
   "execution_count": null,
   "id": "966f0abb",
   "metadata": {},
   "outputs": [],
   "source": []
  }
 ],
 "metadata": {
  "kernelspec": {
   "display_name": "Python 3 (ipykernel)",
   "language": "python",
   "name": "python3"
  },
  "language_info": {
   "codemirror_mode": {
    "name": "ipython",
    "version": 3
   },
   "file_extension": ".py",
   "mimetype": "text/x-python",
   "name": "python",
   "nbconvert_exporter": "python",
   "pygments_lexer": "ipython3",
   "version": "3.11.3"
  }
 },
 "nbformat": 4,
 "nbformat_minor": 5
}
