{
 "cells": [
  {
   "cell_type": "code",
   "execution_count": 1,
   "id": "60bea515",
   "metadata": {},
   "outputs": [],
   "source": [
    "import numpy as np\n",
    "import mne\n",
    "import tensorflow as tf\n",
    "from tensorflow.keras import layers, models\n",
    "from tensorflow.keras import utils"
   ]
  },
  {
   "cell_type": "code",
   "execution_count": 2,
   "id": "613b53c2",
   "metadata": {},
   "outputs": [],
   "source": [
    "# List of file paths for all .set files you want to use as the training set\n",
    "file_paths = [\n",
    "    'D:\\CJ AI Internship\\EEG_Result\\EEG_Result\\\\Grip_Both_01\\\\Grip_Both_01.set',\n",
    "    'D:\\CJ AI Internship\\EEG_Result\\EEG_Result\\\\Grip_Both_02\\\\Grip_Both_02.set',\n",
    "    'D:\\CJ AI Internship\\EEG_Result\\EEG_Result\\\\Grip_Both_03\\\\Grip_Both_03.set',\n",
    "    'D:\\CJ AI Internship\\EEG_Result\\EEG_Result\\\\Grip_Both_04\\\\Grip_Both_04.set',\n",
    "    'D:\\CJ AI Internship\\EEG_Result\\EEG_Result\\\\Grip_Both_05\\\\Grip_Both_05.set'\n",
    "]"
   ]
  },
  {
   "cell_type": "code",
   "execution_count": 3,
   "id": "ccb13231",
   "metadata": {},
   "outputs": [],
   "source": [
    "# Initialize empty lists to store data and labels\n",
    "train_data = []\n",
    "train_labels = []"
   ]
  },
  {
   "cell_type": "code",
   "execution_count": 4,
   "id": "2425617e",
   "metadata": {},
   "outputs": [
    {
     "ename": "FileNotFoundError",
     "evalue": "File does not exist: D:\\CJ AI Internship\\EEG_Result\\EEG_Result\\Grip_Both_01\\Grip_Both_01.set",
     "output_type": "error",
     "traceback": [
      "\u001b[1;31m---------------------------------------------------------------------------\u001b[0m",
      "\u001b[1;31mFileNotFoundError\u001b[0m                         Traceback (most recent call last)",
      "Cell \u001b[1;32mIn[4], line 4\u001b[0m\n\u001b[0;32m      1\u001b[0m \u001b[38;5;66;03m# Loop through each file\u001b[39;00m\n\u001b[0;32m      2\u001b[0m \u001b[38;5;28;01mfor\u001b[39;00m file_path \u001b[38;5;129;01min\u001b[39;00m file_paths:\n\u001b[0;32m      3\u001b[0m     \u001b[38;5;66;03m# Load the preprocessed EEG data from each file\u001b[39;00m\n\u001b[1;32m----> 4\u001b[0m     epoch_data \u001b[38;5;241m=\u001b[39m \u001b[43mmne\u001b[49m\u001b[38;5;241;43m.\u001b[39;49m\u001b[43mread_epochs_eeglab\u001b[49m\u001b[43m(\u001b[49m\u001b[43mfile_path\u001b[49m\u001b[43m)\u001b[49m\n\u001b[0;32m      5\u001b[0m     data \u001b[38;5;241m=\u001b[39m epoch_data\u001b[38;5;241m.\u001b[39mget_data()\n\u001b[0;32m      7\u001b[0m     \u001b[38;5;66;03m# Assuming event occurs in the first 5 epochs (0 to 4) and skip every other epoch\u001b[39;00m\n",
      "File \u001b[1;32mD:\\Users\\Minjoo\\anaconda3\\envs\\ml\\lib\\site-packages\\mne\\io\\eeglab\\eeglab.py:377\u001b[0m, in \u001b[0;36mread_epochs_eeglab\u001b[1;34m(input_fname, events, event_id, eog, uint16_codec, montage_units, verbose)\u001b[0m\n\u001b[0;32m    321\u001b[0m \u001b[38;5;129m@fill_doc\u001b[39m\n\u001b[0;32m    322\u001b[0m \u001b[38;5;28;01mdef\u001b[39;00m \u001b[38;5;21mread_epochs_eeglab\u001b[39m(\n\u001b[0;32m    323\u001b[0m     input_fname,\n\u001b[1;32m   (...)\u001b[0m\n\u001b[0;32m    330\u001b[0m     verbose\u001b[38;5;241m=\u001b[39m\u001b[38;5;28;01mNone\u001b[39;00m,\n\u001b[0;32m    331\u001b[0m ):\n\u001b[0;32m    332\u001b[0m \u001b[38;5;250m    \u001b[39m\u001b[38;5;124mr\u001b[39m\u001b[38;5;124;03m\"\"\"Reader function for EEGLAB epochs files.\u001b[39;00m\n\u001b[0;32m    333\u001b[0m \n\u001b[0;32m    334\u001b[0m \u001b[38;5;124;03m    Parameters\u001b[39;00m\n\u001b[1;32m   (...)\u001b[0m\n\u001b[0;32m    375\u001b[0m \u001b[38;5;124;03m    .. versionadded:: 0.11.0\u001b[39;00m\n\u001b[0;32m    376\u001b[0m \u001b[38;5;124;03m    \"\"\"\u001b[39;00m\n\u001b[1;32m--> 377\u001b[0m     epochs \u001b[38;5;241m=\u001b[39m \u001b[43mEpochsEEGLAB\u001b[49m\u001b[43m(\u001b[49m\n\u001b[0;32m    378\u001b[0m \u001b[43m        \u001b[49m\u001b[43minput_fname\u001b[49m\u001b[38;5;241;43m=\u001b[39;49m\u001b[43minput_fname\u001b[49m\u001b[43m,\u001b[49m\n\u001b[0;32m    379\u001b[0m \u001b[43m        \u001b[49m\u001b[43mevents\u001b[49m\u001b[38;5;241;43m=\u001b[39;49m\u001b[43mevents\u001b[49m\u001b[43m,\u001b[49m\n\u001b[0;32m    380\u001b[0m \u001b[43m        \u001b[49m\u001b[43meog\u001b[49m\u001b[38;5;241;43m=\u001b[39;49m\u001b[43meog\u001b[49m\u001b[43m,\u001b[49m\n\u001b[0;32m    381\u001b[0m \u001b[43m        \u001b[49m\u001b[43mevent_id\u001b[49m\u001b[38;5;241;43m=\u001b[39;49m\u001b[43mevent_id\u001b[49m\u001b[43m,\u001b[49m\n\u001b[0;32m    382\u001b[0m \u001b[43m        \u001b[49m\u001b[43muint16_codec\u001b[49m\u001b[38;5;241;43m=\u001b[39;49m\u001b[43muint16_codec\u001b[49m\u001b[43m,\u001b[49m\n\u001b[0;32m    383\u001b[0m \u001b[43m        \u001b[49m\u001b[43mmontage_units\u001b[49m\u001b[38;5;241;43m=\u001b[39;49m\u001b[43mmontage_units\u001b[49m\u001b[43m,\u001b[49m\n\u001b[0;32m    384\u001b[0m \u001b[43m        \u001b[49m\u001b[43mverbose\u001b[49m\u001b[38;5;241;43m=\u001b[39;49m\u001b[43mverbose\u001b[49m\u001b[43m,\u001b[49m\n\u001b[0;32m    385\u001b[0m \u001b[43m    \u001b[49m\u001b[43m)\u001b[49m\n\u001b[0;32m    386\u001b[0m     \u001b[38;5;28;01mreturn\u001b[39;00m epochs\n",
      "File \u001b[1;32m<decorator-gen-306>:12\u001b[0m, in \u001b[0;36m__init__\u001b[1;34m(self, input_fname, events, event_id, tmin, baseline, reject, flat, reject_tmin, reject_tmax, eog, uint16_codec, montage_units, verbose)\u001b[0m\n",
      "File \u001b[1;32mD:\\Users\\Minjoo\\anaconda3\\envs\\ml\\lib\\site-packages\\mne\\io\\eeglab\\eeglab.py:584\u001b[0m, in \u001b[0;36mEpochsEEGLAB.__init__\u001b[1;34m(self, input_fname, events, event_id, tmin, baseline, reject, flat, reject_tmin, reject_tmax, eog, uint16_codec, montage_units, verbose)\u001b[0m\n\u001b[0;32m    566\u001b[0m \u001b[38;5;129m@verbose\u001b[39m\n\u001b[0;32m    567\u001b[0m \u001b[38;5;28;01mdef\u001b[39;00m \u001b[38;5;21m__init__\u001b[39m(\n\u001b[0;32m    568\u001b[0m     \u001b[38;5;28mself\u001b[39m,\n\u001b[1;32m   (...)\u001b[0m\n\u001b[0;32m    581\u001b[0m     verbose\u001b[38;5;241m=\u001b[39m\u001b[38;5;28;01mNone\u001b[39;00m,\n\u001b[0;32m    582\u001b[0m ):  \u001b[38;5;66;03m# noqa: D102\u001b[39;00m\n\u001b[0;32m    583\u001b[0m     input_fname \u001b[38;5;241m=\u001b[39m \u001b[38;5;28mstr\u001b[39m(\n\u001b[1;32m--> 584\u001b[0m         \u001b[43m_check_fname\u001b[49m\u001b[43m(\u001b[49m\u001b[43mfname\u001b[49m\u001b[38;5;241;43m=\u001b[39;49m\u001b[43minput_fname\u001b[49m\u001b[43m,\u001b[49m\u001b[43m \u001b[49m\u001b[43mmust_exist\u001b[49m\u001b[38;5;241;43m=\u001b[39;49m\u001b[38;5;28;43;01mTrue\u001b[39;49;00m\u001b[43m,\u001b[49m\u001b[43m \u001b[49m\u001b[43moverwrite\u001b[49m\u001b[38;5;241;43m=\u001b[39;49m\u001b[38;5;124;43m\"\u001b[39;49m\u001b[38;5;124;43mread\u001b[39;49m\u001b[38;5;124;43m\"\u001b[39;49m\u001b[43m)\u001b[49m\n\u001b[0;32m    585\u001b[0m     )\n\u001b[0;32m    586\u001b[0m     eeg \u001b[38;5;241m=\u001b[39m _check_load_mat(input_fname, uint16_codec)\n\u001b[0;32m    588\u001b[0m     \u001b[38;5;28;01mif\u001b[39;00m \u001b[38;5;129;01mnot\u001b[39;00m (\n\u001b[0;32m    589\u001b[0m         (events \u001b[38;5;129;01mis\u001b[39;00m \u001b[38;5;28;01mNone\u001b[39;00m \u001b[38;5;129;01mand\u001b[39;00m event_id \u001b[38;5;129;01mis\u001b[39;00m \u001b[38;5;28;01mNone\u001b[39;00m)\n\u001b[0;32m    590\u001b[0m         \u001b[38;5;129;01mor\u001b[39;00m (events \u001b[38;5;129;01mis\u001b[39;00m \u001b[38;5;129;01mnot\u001b[39;00m \u001b[38;5;28;01mNone\u001b[39;00m \u001b[38;5;129;01mand\u001b[39;00m event_id \u001b[38;5;129;01mis\u001b[39;00m \u001b[38;5;129;01mnot\u001b[39;00m \u001b[38;5;28;01mNone\u001b[39;00m)\n\u001b[0;32m    591\u001b[0m     ):\n",
      "File \u001b[1;32m<decorator-gen-0>:12\u001b[0m, in \u001b[0;36m_check_fname\u001b[1;34m(fname, overwrite, must_exist, name, need_dir, verbose)\u001b[0m\n",
      "File \u001b[1;32mD:\\Users\\Minjoo\\anaconda3\\envs\\ml\\lib\\site-packages\\mne\\utils\\check.py:250\u001b[0m, in \u001b[0;36m_check_fname\u001b[1;34m(fname, overwrite, must_exist, name, need_dir, verbose)\u001b[0m\n\u001b[0;32m    248\u001b[0m             \u001b[38;5;28;01mraise\u001b[39;00m \u001b[38;5;167;01mPermissionError\u001b[39;00m(\u001b[38;5;124mf\u001b[39m\u001b[38;5;124m\"\u001b[39m\u001b[38;5;132;01m{\u001b[39;00mname\u001b[38;5;132;01m}\u001b[39;00m\u001b[38;5;124m does not have read permissions: \u001b[39m\u001b[38;5;132;01m{\u001b[39;00mfname\u001b[38;5;132;01m}\u001b[39;00m\u001b[38;5;124m\"\u001b[39m)\n\u001b[0;32m    249\u001b[0m \u001b[38;5;28;01melif\u001b[39;00m must_exist:\n\u001b[1;32m--> 250\u001b[0m     \u001b[38;5;28;01mraise\u001b[39;00m \u001b[38;5;167;01mFileNotFoundError\u001b[39;00m(\u001b[38;5;124mf\u001b[39m\u001b[38;5;124m\"\u001b[39m\u001b[38;5;132;01m{\u001b[39;00mname\u001b[38;5;132;01m}\u001b[39;00m\u001b[38;5;124m does not exist: \u001b[39m\u001b[38;5;132;01m{\u001b[39;00mfname\u001b[38;5;132;01m}\u001b[39;00m\u001b[38;5;124m\"\u001b[39m)\n\u001b[0;32m    252\u001b[0m \u001b[38;5;28;01mreturn\u001b[39;00m fname\n",
      "\u001b[1;31mFileNotFoundError\u001b[0m: File does not exist: D:\\CJ AI Internship\\EEG_Result\\EEG_Result\\Grip_Both_01\\Grip_Both_01.set"
     ]
    }
   ],
   "source": [
    "# Loop through each file\n",
    "for file_path in file_paths:\n",
    "    # Load the preprocessed EEG data from each file\n",
    "    epoch_data = mne.read_epochs_eeglab(file_path)\n",
    "    data = epoch_data.get_data()\n",
    "\n",
    "    # Assuming event occurs in the first 5 epochs (0 to 4) and skip every other epoch\n",
    "    event_epochs = [0, 1, 2, 3, 4]\n",
    "\n",
    "    # Concatenate the required time points (1 second before and 2 seconds after event)\n",
    "    epochs_concatenated = np.concatenate([data[i] for i in event_epochs], axis=1)\n",
    "\n",
    "    # Append the data and labels to the training lists\n",
    "    train_data.append(epochs_concatenated)\n",
    "    train_labels.append([1] * len(event_epochs))\n"
   ]
  },
  {
   "cell_type": "code",
   "execution_count": null,
   "id": "73a9e55b",
   "metadata": {},
   "outputs": [],
   "source": [
    "# Normalize the data\n",
    "train_data = np.array(train_data)\n",
    "train_data = (train_data - np.mean(train_data)) / np.std(train_data)\n",
    "\n",
    "\n",
    "# Convert the labels to numpy array\n",
    "train_labels = np.array(train_labels).flatten()"
   ]
  },
  {
   "cell_type": "code",
   "execution_count": null,
   "id": "446d5c62",
   "metadata": {
    "scrolled": true
   },
   "outputs": [],
   "source": [
    "# Print the shapes to verify the number of samples\n",
    "print(train_data.shape)    # Should be (25, 14, 384)\n",
    "print(train_labels.shape)  # Should be (25,)"
   ]
  },
  {
   "cell_type": "code",
   "execution_count": null,
   "id": "5ae65014",
   "metadata": {},
   "outputs": [],
   "source": [
    "# Create and train the CNN model\n",
    "model = models.Sequential()\n",
    "model.add(layers.Conv2D(32, (3, 3), activation='relu', input_shape=(14, 384, 1)))\n",
    "model.add(layers.MaxPooling2D((2, 2)))\n",
    "model.add(layers.Conv2D(64, (3, 3), activation='relu'))\n",
    "model.add(layers.MaxPooling2D((2, 2)))\n",
    "model.add(layers.Flatten())\n",
    "model.add(layers.Dense(64, activation='relu'))\n",
    "model.add(layers.Dense(1, activation='sigmoid'))\n",
    "\n",
    "# Compile the model\n",
    "model.compile(optimizer='adam', loss='binary_crossentropy', metrics=['accuracy'])\n"
   ]
  },
  {
   "cell_type": "code",
   "execution_count": null,
   "id": "dce4fa6a",
   "metadata": {
    "scrolled": true
   },
   "outputs": [],
   "source": [
    "# Reshape train_data for the CNN model\n",
    "train_data = train_data.reshape((-1, 14, 384, 1))"
   ]
  },
  {
   "cell_type": "code",
   "execution_count": null,
   "id": "31f5ff46",
   "metadata": {},
   "outputs": [],
   "source": [
    "# Train the model\n",
    "model.fit(train_data, train_labels, epochs=10, batch_size=1, validation_split=0.2)"
   ]
  },
  {
   "cell_type": "code",
   "execution_count": null,
   "id": "81f25784",
   "metadata": {},
   "outputs": [],
   "source": [
    "# Step 1: Load and preprocess the test data\n",
    "test_file_path = 'C:\\\\Users\\\\User\\\\Desktop\\\\EEG_Result\\\\Pinch_Both_05\\\\Pinch_Both_05.set'\n",
    "\n",
    "# Load the preprocessed EEG data for the test file\n",
    "test_epoch_data = mne.read_epochs_eeglab(test_file_path)\n",
    "test_data = test_epoch_data.get_data()\n",
    "\n",
    "# Assuming event occurs in these epochs in the test data\n",
    "event_epochs_test = [0, 1, 2, 3, 4, 5, 6, 7, 8, 9]\n",
    "\n",
    "# Concatenate the required time points (1 second before and 2 seconds after event)\n",
    "test_data_concatenated = np.concatenate([test_data[i] for i in event_epochs_test], axis=1)\n",
    "\n",
    "# Normalize the test data using the same mean and standard deviation as the training data\n",
    "test_data_normalized = (test_data_concatenated - np.mean(train_data)) / np.std(train_data)\n",
    "\n",
    "# Reshape the test data for the CNN model\n",
    "test_data_reshaped = test_data_normalized.reshape((-1, 14, 384, 1))\n",
    "\n",
    "# Step 2: Evaluate the model on the test data\n",
    "# Make predictions on the test data\n",
    "predictions = model.predict(test_data_reshaped)\n",
    "\n",
    "# Convert predictions to binary labels (event: 1, non-event: 0)\n",
    "predicted_labels = (predictions > 0.5).astype(int).flatten()\n",
    "\n",
    "# Create true labels for the test data (event: 1, non-event: 0)\n",
    "true_labels = np.zeros(test_data_reshaped.shape[0])\n",
    "true_labels[event_epochs_test] = 1\n",
    "\n",
    "# Compare predicted labels with true labels to evaluate model performance\n",
    "accuracy = np.mean(predicted_labels == true_labels)\n",
    "print(\"Test accuracy:\", accuracy)\n",
    "\n"
   ]
  },
  {
   "cell_type": "code",
   "execution_count": null,
   "id": "1963abab",
   "metadata": {},
   "outputs": [],
   "source": []
  }
 ],
 "metadata": {
  "kernelspec": {
   "display_name": "Python 3 (ipykernel)",
   "language": "python",
   "name": "python3"
  },
  "language_info": {
   "codemirror_mode": {
    "name": "ipython",
    "version": 3
   },
   "file_extension": ".py",
   "mimetype": "text/x-python",
   "name": "python",
   "nbconvert_exporter": "python",
   "pygments_lexer": "ipython3",
   "version": "3.8.16"
  }
 },
 "nbformat": 4,
 "nbformat_minor": 5
}
